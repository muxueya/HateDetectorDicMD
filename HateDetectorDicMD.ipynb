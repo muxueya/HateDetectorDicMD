{
  "nbformat": 4,
  "nbformat_minor": 0,
  "metadata": {
    "colab": {
      "provenance": [],
      "authorship_tag": "ABX9TyPCv1Y96cqLniKli1/Bd0/E",
      "include_colab_link": true
    },
    "kernelspec": {
      "name": "python3",
      "display_name": "Python 3"
    },
    "language_info": {
      "name": "python"
    }
  },
  "cells": [
    {
      "cell_type": "markdown",
      "metadata": {
        "id": "view-in-github",
        "colab_type": "text"
      },
      "source": [
        "<a href=\"https://colab.research.google.com/github/muxueya/HateDetectorDicMD/blob/main/HateDetectorDicMD.ipynb\" target=\"_parent\"><img src=\"https://colab.research.google.com/assets/colab-badge.svg\" alt=\"Open In Colab\"/></a>"
      ]
    },
    {
      "cell_type": "code",
      "execution_count": 1,
      "metadata": {
        "colab": {
          "base_uri": "https://localhost:8080/"
        },
        "id": "oNNyTDzcesgV",
        "outputId": "a987b520-6b42-4a99-98a9-83fd2118c220"
      },
      "outputs": [
        {
          "output_type": "stream",
          "name": "stdout",
          "text": [
            "Collecting krippendorff\n",
            "  Downloading krippendorff-0.7.0-py3-none-any.whl.metadata (2.8 kB)\n",
            "Requirement already satisfied: scikit-learn in /usr/local/lib/python3.10/dist-packages (1.5.2)\n",
            "Requirement already satisfied: pandas in /usr/local/lib/python3.10/dist-packages (2.1.4)\n",
            "Requirement already satisfied: openpyxl in /usr/local/lib/python3.10/dist-packages (3.1.5)\n",
            "Requirement already satisfied: numpy>=1.21 in /usr/local/lib/python3.10/dist-packages (from krippendorff) (1.26.4)\n",
            "Requirement already satisfied: scipy>=1.6.0 in /usr/local/lib/python3.10/dist-packages (from scikit-learn) (1.13.1)\n",
            "Requirement already satisfied: joblib>=1.2.0 in /usr/local/lib/python3.10/dist-packages (from scikit-learn) (1.4.2)\n",
            "Requirement already satisfied: threadpoolctl>=3.1.0 in /usr/local/lib/python3.10/dist-packages (from scikit-learn) (3.5.0)\n",
            "Requirement already satisfied: python-dateutil>=2.8.2 in /usr/local/lib/python3.10/dist-packages (from pandas) (2.8.2)\n",
            "Requirement already satisfied: pytz>=2020.1 in /usr/local/lib/python3.10/dist-packages (from pandas) (2024.2)\n",
            "Requirement already satisfied: tzdata>=2022.1 in /usr/local/lib/python3.10/dist-packages (from pandas) (2024.1)\n",
            "Requirement already satisfied: et-xmlfile in /usr/local/lib/python3.10/dist-packages (from openpyxl) (1.1.0)\n",
            "Requirement already satisfied: six>=1.5 in /usr/local/lib/python3.10/dist-packages (from python-dateutil>=2.8.2->pandas) (1.16.0)\n",
            "Downloading krippendorff-0.7.0-py3-none-any.whl (18 kB)\n",
            "Installing collected packages: krippendorff\n",
            "Successfully installed krippendorff-0.7.0\n"
          ]
        }
      ],
      "source": [
        "# Step 1: Install Required Libraries\n",
        "!pip install krippendorff scikit-learn pandas openpyxl"
      ]
    },
    {
      "cell_type": "code",
      "source": [
        "# Step 2: Import Libraries\n",
        "import pandas as pd\n",
        "import re\n",
        "import krippendorff\n",
        "from sklearn.metrics import accuracy_score\n",
        "import numpy as np\n"
      ],
      "metadata": {
        "id": "ZKS4Ws5Ofd_p"
      },
      "execution_count": 2,
      "outputs": []
    },
    {
      "cell_type": "code",
      "source": [
        "# Step 3: Toxicity Detection using Dictionary Method\n",
        "def detect_toxicity(comment, toxic_words):\n",
        "    words = re.findall(r'\\b\\w+\\b', comment.lower())  # Tokenize words in the comment\n",
        "    toxic_count = sum(1 for word in words if word in toxic_words)\n",
        "    return toxic_count > 0  # Return True if toxic word is found\n",
        "\n",
        "# Load the comments from an Excel file\n",
        "df = pd.read_excel('incels-5000.xlsx')  # Adjust the file path as necessary\n",
        "comments = df['comment'].astype(str).tolist()  # Convert comments to a list of strings\n",
        "\n",
        "# Load the toxic words list from the text file\n",
        "with open('toxic_words.txt', 'r', encoding='utf-8', errors='ignore') as file:\n",
        "    toxic_words = [line.strip() for line in file.readlines()]\n",
        "\n",
        "# Apply dictionary-based toxicity detection\n",
        "results = []\n",
        "for comment in comments:\n",
        "    if detect_toxicity(comment, toxic_words):\n",
        "        results.append({'comment': comment, 'label': 'toxic'})\n",
        "    else:\n",
        "        results.append({'comment': comment, 'label': 'non-toxic'})\n",
        "\n",
        "# Save the results to a CSV file\n",
        "df_results = pd.DataFrame(results)\n",
        "df_results.to_csv('comment_toxicity_results.csv', index=False, encoding='utf-8')\n"
      ],
      "metadata": {
        "id": "nmbePjyHfjQV"
      },
      "execution_count": 3,
      "outputs": []
    },
    {
      "cell_type": "code",
      "source": [
        "# Step 4: Sample Comments with High and Low Toxicity\n",
        "# def select_comments(input_file, high_output_file, low_output_file, X, Y):\n",
        "#     # Load the toxicity results\n",
        "#     df = pd.read_csv(input_file)\n",
        "\n",
        "#     # Convert 'toxic_predictions' column to numeric\n",
        "#     df['toxic_predictions'] = pd.to_numeric(df['toxic_predictions'], errors='coerce')\n",
        "\n",
        "#     # Filter for high and low toxicity comments\n",
        "#     high_toxic = df[df['toxic_predictions'] >= 50]\n",
        "#     low_toxic = df[df['toxic_predictions'] < 50]\n",
        "\n",
        "#     # Randomly select X and Y comments\n",
        "#     selected_high_toxic = high_toxic.sample(n=X, random_state=42)\n",
        "#     selected_low_toxic = low_toxic.sample(n=Y, random_state=42)\n",
        "\n",
        "#     # Save the selected comments to separate CSV files\n",
        "#     selected_high_toxic.to_csv(high_output_file, index=False, encoding='utf-8')\n",
        "#     selected_low_toxic.to_csv(low_output_file, index=False, encoding='utf-8')"
      ],
      "metadata": {
        "id": "TMG8BEpLfuvg"
      },
      "execution_count": null,
      "outputs": []
    },
    {
      "cell_type": "code",
      "source": [
        "# Step 5: Calculate Krippendorff's Alpha\n",
        "def calculate_krippendorff_alpha(file):\n",
        "    df = pd.read_excel(file)\n",
        "    annotations = df[['a', 'b', 'c', 'd', 'e']].values.T  # Transpose the data for Krippendorff's alpha\n",
        "    alpha = krippendorff.alpha(reliability_data=annotations, level_of_measurement='nominal')\n",
        "    print(f\"{file} Krippendorff's Alpha: {alpha:.3f}\")\n",
        "\n",
        "# Example Usage\n",
        "calculate_krippendorff_alpha('toxic sample.xlsx')\n",
        "calculate_krippendorff_alpha('non-toxic sample.xlsx')\n",
        "calculate_krippendorff_alpha('Dictionary MD sample.xlsx')"
      ],
      "metadata": {
        "colab": {
          "base_uri": "https://localhost:8080/"
        },
        "id": "8bKZwwf1f9sG",
        "outputId": "d9696fc9-2cef-44cd-86cb-84147dcf3008"
      },
      "execution_count": 4,
      "outputs": [
        {
          "output_type": "stream",
          "name": "stdout",
          "text": [
            "toxic sample.xlsx Krippendorff's Alpha: 0.586\n",
            "non-toxic sample.xlsx Krippendorff's Alpha: 0.327\n",
            "Dictionary MD sample.xlsx Krippendorff's Alpha: 0.754\n"
          ]
        }
      ]
    },
    {
      "cell_type": "code",
      "source": [
        "# Step 6: Calculate Accuracy for Dictionary\n",
        "def calculate_accuracy(file):\n",
        "    df = pd.read_excel(file)  # Load annotated samples\n",
        "\n",
        "    # Calculate Dictionary Method Accuracy\n",
        "    dictionary_accuracy = accuracy_score(df['label2'], df['label1'])\n",
        "    print(f\"Dictionary Method Accuracy: {dictionary_accuracy:.3f}\")\n",
        "\n",
        "\n",
        "# Example Usage\n",
        "calculate_accuracy('Dictionary MD sample.xlsx')"
      ],
      "metadata": {
        "colab": {
          "base_uri": "https://localhost:8080/"
        },
        "id": "I3BUkmg9gPxG",
        "outputId": "3cb1eeae-d287-43d4-d521-627af16f6f7a"
      },
      "execution_count": 5,
      "outputs": [
        {
          "output_type": "stream",
          "name": "stdout",
          "text": [
            "Dictionary Method Accuracy: 0.894\n"
          ]
        }
      ]
    }
  ]
}